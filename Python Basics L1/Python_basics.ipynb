{
 "cells": [
  {
   "cell_type": "code",
   "execution_count": 1,
   "id": "99c270f7",
   "metadata": {},
   "outputs": [],
   "source": [
    "# 1. Python Outputs (First topic-printing something on the screen)"
   ]
  },
  {
   "cell_type": "code",
   "execution_count": 2,
   "id": "954784c5",
   "metadata": {},
   "outputs": [
    {
     "name": "stdout",
     "output_type": "stream",
     "text": [
      "Hello World\n"
     ]
    }
   ],
   "source": [
    "# python is case sensitive\n",
    "print('Hello World')"
   ]
  },
  {
   "cell_type": "code",
   "execution_count": 3,
   "id": "ce1dd55e",
   "metadata": {},
   "outputs": [
    {
     "name": "stdout",
     "output_type": "stream",
     "text": [
      "Aything\n"
     ]
    }
   ],
   "source": [
    "print('Aything')\n",
    "# to print the massage as it we must put the massage within a single or double quote"
   ]
  },
  {
   "cell_type": "code",
   "execution_count": 4,
   "id": "626f283c",
   "metadata": {},
   "outputs": [
    {
     "name": "stdout",
     "output_type": "stream",
     "text": [
      "Hello 1 2.3333 True\n"
     ]
    }
   ],
   "source": [
    "#printing multiple data type simoltenously\n",
    "print('Hello', 1,2.3333,True)\n",
    "#by default there is spce between multiple entity "
   ]
  },
  {
   "cell_type": "code",
   "execution_count": 5,
   "id": "0a3d73c1",
   "metadata": {},
   "outputs": [
    {
     "name": "stdout",
     "output_type": "stream",
     "text": [
      "Hello/1/2.3333/True\n"
     ]
    }
   ],
   "source": [
    "print('Hello', 1,2.3333,True, sep='/')\n",
    "#the default value of sep is  space but we can change it accordingly"
   ]
  },
  {
   "cell_type": "code",
   "execution_count": 6,
   "id": "dc6867d3",
   "metadata": {},
   "outputs": [
    {
     "name": "stdout",
     "output_type": "stream",
     "text": [
      "Hello\n",
      "world\n"
     ]
    }
   ],
   "source": [
    "#multiple print statements always gives output in separate lines\n",
    "print('Hello')\n",
    "print('world')"
   ]
  },
  {
   "cell_type": "code",
   "execution_count": 7,
   "id": "ee79db38",
   "metadata": {},
   "outputs": [
    {
     "name": "stdout",
     "output_type": "stream",
     "text": [
      "Hello-world\n"
     ]
    }
   ],
   "source": [
    "print('Hello', end='-')\n",
    "print('world')\n",
    "# the default value of end in new line we changed that to -"
   ]
  },
  {
   "cell_type": "code",
   "execution_count": null,
   "id": "e320921f",
   "metadata": {},
   "outputs": [],
   "source": []
  }
 ],
 "metadata": {
  "kernelspec": {
   "display_name": "Python 3 (ipykernel)",
   "language": "python",
   "name": "python3"
  },
  "language_info": {
   "codemirror_mode": {
    "name": "ipython",
    "version": 3
   },
   "file_extension": ".py",
   "mimetype": "text/x-python",
   "name": "python",
   "nbconvert_exporter": "python",
   "pygments_lexer": "ipython3",
   "version": "3.10.0"
  }
 },
 "nbformat": 4,
 "nbformat_minor": 5
}
